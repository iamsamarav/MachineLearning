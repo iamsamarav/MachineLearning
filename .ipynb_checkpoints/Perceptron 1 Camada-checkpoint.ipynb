{
 "cells": [
  {
   "cell_type": "code",
   "execution_count": null,
   "id": "a8a86ac8-4bdf-4ed2-a8f6-075bcb320ed0",
   "metadata": {},
   "outputs": [],
   "source": [
    "#Seja bem vindo(a)! Ao processo de criação guida de um perceptron simples"
   ]
  },
  {
   "cell_type": "code",
   "execution_count": 10,
   "id": "cc1cb9ba-bdc9-4a39-8af8-2a9357c62033",
   "metadata": {},
   "outputs": [],
   "source": [
    "entradas = [1, 9, 5]\n",
    "pesos = [0.8, 0.1, 0]"
   ]
  },
  {
   "cell_type": "code",
   "execution_count": 12,
   "id": "3834ebef-3f3c-493b-929e-6269299d413c",
   "metadata": {},
   "outputs": [],
   "source": [
    "#Trata-se da função que retornará a transformação aplicada ao dado\n",
    "\n",
    "def soma(e,p):\n",
    "    s = 0\n",
    "    for i in range(3):\n",
    "        s+= e[i] * p[i]\n",
    "    return s"
   ]
  },
  {
   "cell_type": "code",
   "execution_count": 14,
   "id": "856b1172-8ae2-4aef-b960-477873d57d2e",
   "metadata": {},
   "outputs": [
    {
     "name": "stdout",
     "output_type": "stream",
     "text": [
      "1.7000000000000002\n"
     ]
    }
   ],
   "source": [
    "#Agora iremos declarar a variável s que receberá o resultado da função soma\n",
    "\n",
    "s = soma(entradas, pesos)\n",
    "print(s)"
   ]
  },
  {
   "cell_type": "code",
   "execution_count": 22,
   "id": "dca41f93-bff6-4098-92bc-4cb9b18cdc13",
   "metadata": {},
   "outputs": [],
   "source": [
    "#Com a nossa stepFunction haverá ou não a ativação do perceptron.\n",
    "def stepFunction(s):\n",
    "    if (s>= 1):\n",
    "        return 1\n",
    "    return 0"
   ]
  },
  {
   "cell_type": "code",
   "execution_count": 24,
   "id": "2a88eade-8e16-489b-b60a-23fb69a03feb",
   "metadata": {},
   "outputs": [
    {
     "name": "stdout",
     "output_type": "stream",
     "text": [
      "1\n"
     ]
    }
   ],
   "source": [
    "#Aqui há a atribuição do resultado de nossa função de ativação, em que 1 ativa e 0 não ativa\n",
    "saida = stepFunction(s)\n",
    "print(saida)"
   ]
  },
  {
   "cell_type": "code",
   "execution_count": 29,
   "id": "594fa61b-4560-48e6-bf50-7cc6e6e5c763",
   "metadata": {},
   "outputs": [],
   "source": [
    "#Iremos otimizar o nosso código acima com a utilização da biblioteca Python. Fazemos a utilização da lista apliacada ao array para\n",
    "#melhor manipulação através do numpy\n",
    "\n",
    "import numpy as np\n",
    "\n",
    "entradas = np.array([1,9,5])\n",
    "pesos = np.array([0.8,0.1,0])"
   ]
  },
  {
   "cell_type": "code",
   "execution_count": 31,
   "id": "964068fe-af75-491e-a25d-b58bb49fbbdf",
   "metadata": {},
   "outputs": [],
   "source": [
    "#Criaremos a função de transformação do dado.\n",
    "\n",
    "def Soma(e,p):\n",
    "    return e.dot(p)"
   ]
  },
  {
   "cell_type": "code",
   "execution_count": 33,
   "id": "c7b5c691-cd7a-4236-b1be-80ea5ca00b3d",
   "metadata": {},
   "outputs": [
    {
     "name": "stdout",
     "output_type": "stream",
     "text": [
      "1.7000000000000002\n",
      "1\n"
     ]
    }
   ],
   "source": [
    "#Continuação com atribuições e aplicação da função Soma\n",
    "\n",
    "def stepFunction(Soma):\n",
    "    if(s>= 1):\n",
    "        return 1\n",
    "    return 0\n",
    "\n",
    "saida = stepFunction(s)\n",
    "\n",
    "print(s)\n",
    "print(saida)"
   ]
  },
  {
   "cell_type": "code",
   "execution_count": null,
   "id": "6fa791df-df33-4c76-a8ec-d6a7f5fc2eb9",
   "metadata": {},
   "outputs": [],
   "source": []
  }
 ],
 "metadata": {
  "kernelspec": {
   "display_name": "Python 3 (ipykernel)",
   "language": "python",
   "name": "python3"
  },
  "language_info": {
   "codemirror_mode": {
    "name": "ipython",
    "version": 3
   },
   "file_extension": ".py",
   "mimetype": "text/x-python",
   "name": "python",
   "nbconvert_exporter": "python",
   "pygments_lexer": "ipython3",
   "version": "3.11.5"
  }
 },
 "nbformat": 4,
 "nbformat_minor": 5
}
